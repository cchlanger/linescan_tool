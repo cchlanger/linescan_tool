{
 "cells": [
  {
   "cell_type": "code",
   "execution_count": 2,
   "metadata": {},
   "outputs": [],
   "source": [
    "from linescan import vis_tools\n",
    "from pathlib import Path"
   ]
  },
  {
   "cell_type": "markdown",
   "metadata": {},
   "source": [
    "# Thejas Summary\n",
    "## Controlls:\n",
    "### Expected overlap: CENPA - CREST\n",
    "- delta SMC4 cells - channels [CENPA,CREST,DAPI]"
   ]
  },
  {
   "cell_type": "code",
   "execution_count": 3,
   "metadata": {},
   "outputs": [],
   "source": [
    "roi_paths = [\n",
    "    str(Path.home())\n",
    "    + \"/gerlich/members/ThejaswiNagaraju/Surface Targetting of CENPA- For Christoph/ROI#1_CENPA_CREST.zip\",\n",
    "    str(Path.home())\n",
    "    + \"/gerlich/members/ThejaswiNagaraju/Surface Targetting of CENPA- For Christoph/ROI#2_CENPA_CREST.zip\",\n",
    "    str(Path.home())\n",
    "    + \"/gerlich/members/ThejaswiNagaraju/Surface Targetting of CENPA- For Christoph/ROI#4_CENPA_CREST.zip\",\n",
    "]\n",
    "image_names = [\n",
    "    str(Path.home())\n",
    "    + \"/gerlich/members/ThejaswiNagaraju/Surface Targetting of CENPA- For Christoph/Airy Scan_CENPA_CREST_Noc +aux.czi #01.tif\",\n",
    "    str(Path.home())\n",
    "    + \"/gerlich/members/ThejaswiNagaraju/Surface Targetting of CENPA- For Christoph/Airy Scan_CENPA_CREST_Noc +aux.czi #02.tif\",\n",
    "    str(Path.home())\n",
    "    + \"/gerlich/members/ThejaswiNagaraju/Surface Targetting of CENPA- For Christoph/Airy Scan_CENPA_CREST_Noc +aux.czi #04.tif\",\n",
    "]\n",
    "channels = [\"CENPA\", \"CREST\", \"DAPI\"]"
   ]
  },
  {
   "cell_type": "markdown",
   "metadata": {},
   "source": [
    "- long lines"
   ]
  },
  {
   "cell_type": "code",
   "execution_count": null,
   "metadata": {},
   "outputs": [],
   "source": [
    "roi_paths = [\n",
    "    str(Path.home())\n",
    "    + \"/gerlich/members/ThejaswiNagaraju/Surface Targetting of CENPA- For Christoph/ROI#1.1_CENPA_CREST.zip\",\n",
    "    str(Path.home())\n",
    "    + \"/gerlich/members/ThejaswiNagaraju/Surface Targetting of CENPA- For Christoph/ROI#2.1_CENPA_CREST.zip\",\n",
    "    str(Path.home())\n",
    "    + \"/gerlich/members/ThejaswiNagaraju/Surface Targetting of CENPA- For Christoph/ROI#4.1_CENPA_CREST.zip\",\n",
    "]\n",
    "image_names = [\n",
    "    str(Path.home())\n",
    "    + \"/gerlich/members/ThejaswiNagaraju/Surface Targetting of CENPA- For Christoph/Airy Scan_CENPA_CREST_Noc +aux.czi #01.tif\",\n",
    "    str(Path.home())\n",
    "    + \"/gerlich/members/ThejaswiNagaraju/Surface Targetting of CENPA- For Christoph/Airy Scan_CENPA_CREST_Noc +aux.czi #02.tif\",\n",
    "    str(Path.home())\n",
    "    + \"/gerlich/members/ThejaswiNagaraju/Surface Targetting of CENPA- For Christoph/Airy Scan_CENPA_CREST_Noc +aux.czi #04.tif\",\n",
    "]\n",
    "channels = [\"CENPA\", \"CREST\", \"DAPI\"]"
   ]
  },
  {
   "cell_type": "markdown",
   "metadata": {},
   "source": [
    "### Slight shift: INCENP more internal then CENPA\n",
    "- delta SMC4 - channels [\"CENPA\", \"INCENP\", \"DAPI\"]"
   ]
  },
  {
   "cell_type": "code",
   "execution_count": null,
   "metadata": {},
   "outputs": [],
   "source": [
    "roi_paths = [\n",
    "    str(Path.home())\n",
    "    + \"/gerlich/members/ThejaswiNagaraju/Surface Targetting of CENPA- For Christoph/RoiSet#4_INCENP_CENP-A_ No treatment.zip\",\n",
    "    str(Path.home())\n",
    "    + \"/gerlich/members/ThejaswiNagaraju/Surface Targetting of CENPA- For Christoph/RoiSet#6_INCENP_CENP-A_ No treatment.zip\",\n",
    "]\n",
    "image_names = [\n",
    "    str(Path.home())\n",
    "    + \"/gerlich/members/ThejaswiNagaraju/Surface Targetting of CENPA- For Christoph/211214_INCENP_CENP-A_No treatment-Airyscan Processing.czi #4.tif\",\n",
    "    str(Path.home())\n",
    "    + \"/gerlich/members/ThejaswiNagaraju/Surface Targetting of CENPA- For Christoph/211214_INCENP_CENP-A_No treatment-Airyscan Processing.czi #6.tif\",\n",
    "]\n",
    "channels = [\"CENPA\", \"INCENP\", \"DAPI\"]"
   ]
  },
  {
   "cell_type": "markdown",
   "metadata": {},
   "source": [
    "- long lines"
   ]
  },
  {
   "cell_type": "code",
   "execution_count": null,
   "metadata": {},
   "outputs": [],
   "source": [
    "roi = [\n",
    "    str(Path.home())\n",
    "    + \"/gerlich/members/ThejaswiNagaraju/Surface Targetting of CENPA- For Christoph/RoiSet#4.1_INCENP_CENP-A_ No treatment.zip\",\n",
    "    str(Path.home())\n",
    "    + \"/gerlich/members/ThejaswiNagaraju/Surface Targetting of CENPA- For Christoph/RoiSet#6.1_INCENP_CENP-A_ No treatment.zip\",\n",
    "    str(Path.home())\n",
    "    + \"/gerlich/members/ThejaswiNagaraju/Surface Targetting of CENPA- For Christoph/RoiSet#1.1_INCENP_CENP-A_ No treatment.zip\",\n",
    "    str(Path.home())\n",
    "    + \"/gerlich/members/ThejaswiNagaraju/Surface Targetting of CENPA- For Christoph/RoiSet#2.1_INCENP_CENP-A_ No treatment.zip\",\n",
    "    str(Path.home())\n",
    "    + \"/gerlich/members/ThejaswiNagaraju/Surface Targetting of CENPA- For Christoph/RoiSet#5.1_INCENP_CENP-A_ No treatment.zip\",\n",
    "    str(Path.home())\n",
    "    + \"/gerlich/members/ThejaswiNagaraju/Surface Targetting of CENPA- For Christoph/RoiSet#7.1_INCENP_CENP-A_ No treatment.zip\",\n",
    "    str(Path.home())\n",
    "    + \"/gerlich/members/ThejaswiNagaraju/Surface Targetting of CENPA- For Christoph/RoiSet#8.1_INCENP_CENP-A_ No treatment.zip\",\n",
    "    str(Path.home())\n",
    "    + \"/gerlich/members/ThejaswiNagaraju/Surface Targetting of CENPA- For Christoph/RoiSet#9.1_INCENP_CENP-A_ No treatment.zip\",\n",
    "]\n",
    "image_names = [\n",
    "    str(Path.home())\n",
    "    + \"/gerlich/members/ThejaswiNagaraju/Surface Targetting of CENPA- For Christoph/211214_INCENP_CENP-A_No treatment-Airyscan Processing.czi #4.tif\",\n",
    "    str(Path.home())\n",
    "    + \"/gerlich/members/ThejaswiNagaraju/Surface Targetting of CENPA- For Christoph/211214_INCENP_CENP-A_No treatment-Airyscan Processing.czi #6.tif\",\n",
    "    str(Path.home())\n",
    "    + \"/gerlich/members/ThejaswiNagaraju/Surface Targetting of CENPA- For Christoph/211214_INCENP_CENP-A_No treatment-Airyscan Processing.czi #1.tif\",\n",
    "    str(Path.home())\n",
    "    + \"/gerlich/members/ThejaswiNagaraju/Surface Targetting of CENPA- For Christoph/211214_INCENP_CENP-A-siCENPC+T-8+16-Airyscan Processing.czi #02.tif\",\n",
    "    str(Path.home())\n",
    "    + \"/gerlich/members/ThejaswiNagaraju/Surface Targetting of CENPA- For Christoph/211214_INCENP_CENP-A_No treatment-Airyscan Processing.czii #5.tif\",\n",
    "    str(Path.home())\n",
    "    + \"/gerlich/members/ThejaswiNagaraju/Surface Targetting of CENPA- For Christoph/211214_INCENP_CENP-A_No treatment-Airyscan Processing.czi #7.tif\",\n",
    "    str(Path.home())\n",
    "    + \"/gerlich/members/ThejaswiNagaraju/Surface Targetting of CENPA- For Christoph/211214_INCENP_CENP-A_No treatment-Airyscan Processing.czi #8.tif\",\n",
    "    str(Path.home())\n",
    "    + \"/gerlich/members/ThejaswiNagaraju/Surface Targetting of CENPA- For Christoph/211214_INCENP_CENP-A_No treatment-Airyscan Processing.czi #9.tif\",\n",
    "]\n",
    "channels = [\"CENPA\", \"INCENP\", \"DAPI\"]"
   ]
  },
  {
   "cell_type": "markdown",
   "metadata": {},
   "source": [
    "- siRNA CENPC-T"
   ]
  },
  {
   "cell_type": "code",
   "execution_count": null,
   "metadata": {},
   "outputs": [],
   "source": [
    "roi_paths = [\n",
    "    str(Path.home())\n",
    "    + \"/gerlich/members/ThejaswiNagaraju/Surface Targetting of CENPA- For Christoph/RoiSet#2_INCENP_CENP-A_siCENP-C+T(8+16).zip\",\n",
    "    str(Path.home())\n",
    "    + \"/gerlich/members/ThejaswiNagaraju/Surface Targetting of CENPA- For Christoph/RoiSet#3_INCENP_CENP-A_siCENP-C+T(8+16).zip\",\n",
    "]\n",
    "image_names = [\n",
    "    str(Path.home())\n",
    "    + \"/gerlich/members/ThejaswiNagaraju/Surface Targetting of CENPA- For Christoph/211214_INCENP_CENP-A-siCENPC+T-8+16-Airyscan Processing.czi #02.tif\",\n",
    "    str(Path.home())\n",
    "    + \"/gerlich/members/ThejaswiNagaraju/Surface Targetting of CENPA- For Christoph/211214_INCENP_CENP-A-siCENPC+T-8+16-Airyscan Processing.czi #03.tif\",\n",
    "]\n",
    "channels = [\"CENPA\", \"INCENP\", \"DAPI\"]"
   ]
  },
  {
   "cell_type": "markdown",
   "metadata": {},
   "source": [
    "- long lines"
   ]
  },
  {
   "cell_type": "code",
   "execution_count": null,
   "metadata": {},
   "outputs": [],
   "source": [
    "roi = [\n",
    "    str(Path.home())\n",
    "    + \"/gerlich/members/ThejaswiNagaraju/Surface Targetting of CENPA- For Christoph/RoiSet#2.1_INCENP_CENP-A_siCENP-C+T(8+16).zip\",\n",
    "    str(Path.home())\n",
    "    + \"/gerlich/members/ThejaswiNagaraju/Surface Targetting of CENPA- For Christoph/RoiSet#3.1_INCENP_CENP-A_siCENP-C+T(8+16).zip\",\n",
    "    str(Path.home())\n",
    "    + \"/gerlich/members/ThejaswiNagaraju/Surface Targetting of CENPA- For Christoph/RoiSet#5.1_INCENP_CENP-A_siCENP-C+T(8+16).zip\",\n",
    "    str(Path.home())\n",
    "    + \"/gerlich/members/ThejaswiNagaraju/Surface Targetting of CENPA- For Christoph/RoiSet#06.1_INCENP_CENP-A_siCENP-C+T(8+16).zip\",\n",
    "    str(Path.home())\n",
    "    + \"/gerlich/members/ThejaswiNagaraju/Surface Targetting of CENPA- For Christoph/RoiSet#08.1_INCENP_CENP-A_siCENP-C+T(8+16).zip\",\n",
    "    str(Path.home())\n",
    "    + \"/gerlich/members/ThejaswiNagaraju/Surface Targetting of CENPA- For Christoph/RoiSet#09.1_INCENP_CENP-A_siCENP-C+T(8+16).zip\",\n",
    "    str(Path.home())\n",
    "    + \"/gerlich/members/ThejaswiNagaraju/Surface Targetting of CENPA- For Christoph/RoiSet#10.1_INCENP_CENP-A_siCENP-C+T(8+16).zip\",\n",
    "]\n",
    "image_names = [\n",
    "    str(Path.home())\n",
    "    + \"/gerlich/members/ThejaswiNagaraju/Surface Targetting of CENPA- For Christoph/211214_INCENP_CENP-A-siCENPC+T-8+16-Airyscan Processing.czi #02.tif\",\n",
    "    str(Path.home())\n",
    "    + \"/gerlich/members/ThejaswiNagaraju/Surface Targetting of CENPA- For Christoph/211214_INCENP_CENP-A-siCENPC+T-8+16-Airyscan Processing.czi #03.tif\",\n",
    "    str(Path.home())\n",
    "    + \"/gerlich/members/ThejaswiNagaraju/Surface Targetting of CENPA- For Christoph/211214_INCENP_CENP-A-siCENPC+T-8+16-Airyscan Processing.czi  #05.tif\",\n",
    "    str(Path.home())\n",
    "    + \"/gerlich/members/ThejaswiNagaraju/Surface Targetting of CENPA- For Christoph/211214_INCENP_CENP-A-siCENPC+T-8+16-Airyscan Processing.czi #06.tif\",\n",
    "    str(Path.home())\n",
    "    + \"/gerlich/members/ThejaswiNagaraju/Surface Targetting of CENPA- For Christoph/211214_INCENP_CENP-A-siCENPC+T-8+16-Airyscan Processing.czi #08.tif\",\n",
    "    str(Path.home())\n",
    "    + \"/gerlich/members/ThejaswiNagaraju/Surface Targetting of CENPA- For Christoph/211214_INCENP_CENP-A-siCENPC+T-8+16-Airyscan Processing.czi #09.tif\",\n",
    "    str(Path.home())\n",
    "    + \"/gerlich/members/ThejaswiNagaraju/Surface Targetting of CENPA- For Christoph/211214_INCENP_CENP-A-siCENPC+T-8+16-Airyscan Processing.czi #10.tif\",\n",
    "]\n",
    "channels = [\"CENPA\", \"INCENP\", \"DAPI\"]"
   ]
  },
  {
   "cell_type": "markdown",
   "metadata": {},
   "source": [
    "### AluI digested cells (see if CENPA still at the surface)\n",
    "- delta SmC4 AluI digested cells"
   ]
  },
  {
   "cell_type": "code",
   "execution_count": null,
   "metadata": {},
   "outputs": [],
   "source": [
    "roi = [\n",
    "    str(Path.home())\n",
    "    + \"/gerlich/members/ThejaswiNagaraju/Surface Targetting of CENPA- For Christoph/AluI digest-cell1_ROI.zip\",\n",
    "    str(Path.home())\n",
    "    + \"/gerlich/members/ThejaswiNagaraju/Surface Targetting of CENPA- For Christoph/ROI-AluI digest-cell2.zip\",\n",
    "    str(Path.home())\n",
    "    + \"/gerlich/members/ThejaswiNagaraju/Surface Targetting of CENPA- For Christoph/ROI-AluI digest-cell3.zip\",\n",
    "    str(Path.home())\n",
    "    + \"/gerlich/members/ThejaswiNagaraju/Surface Targetting of CENPA- For Christoph/ROI-AluI digest-cell4.zip\",\n",
    "    str(Path.home())\n",
    "    + \"/gerlich/members/ThejaswiNagaraju/Surface Targetting of CENPA- For Christoph/ROI-AluI digest-cell5.zip\",\n",
    "]\n",
    "image_names = [\n",
    "    str(Path.home())\n",
    "    + \"/gerlich/members/ThejaswiNagaraju/Surface Targetting of CENPA- For Christoph/AluI digest-cell1.tif\",\n",
    "    str(Path.home())\n",
    "    + \"/gerlich/members/ThejaswiNagaraju/Surface Targetting of CENPA- For Christoph/AluI digest-cell2.tif\",\n",
    "    str(Path.home())\n",
    "    + \"/gerlich/members/ThejaswiNagaraju/Surface Targetting of CENPA- For Christoph/AluI digest-cell3.tif\",\n",
    "    str(Path.home())\n",
    "    + \"/gerlich/members/ThejaswiNagaraju/Surface Targetting of CENPA- For Christoph/AluI digest-cell4.tif\",\n",
    "    str(Path.home())\n",
    "    + \"/gerlich/members/ThejaswiNagaraju/Surface Targetting of CENPA- For Christoph/AluI digest-cell5.tif\",\n",
    "]\n",
    "channels = [\"H2B-mCherry\", \"CENPA\"]"
   ]
  },
  {
   "cell_type": "markdown",
   "metadata": {},
   "source": [
    "### Prometaphase - WT - unperturbed"
   ]
  },
  {
   "cell_type": "code",
   "execution_count": null,
   "metadata": {},
   "outputs": [],
   "source": [
    "roi = [\n",
    "    str(Path.home())\n",
    "    + \"/gerlich/experiments/Experiments_005400/005404/Analysis-Unpertubed Mitotic/RoiSet#15-Prometa.zip\",\n",
    "    str(Path.home())\n",
    "    + \"/gerlich/experiments/Experiments_005400/005404/Analysis-Unpertubed Mitotic/RoiSet#18-Prometa.zip\",\n",
    "    str(Path.home())\n",
    "    + \"/gerlich/experiments/Experiments_005400/005404/Analysis-Unpertubed Mitotic/RoiSet#11-Prometa.zip\",\n",
    "    str(Path.home())\n",
    "    + \"/gerlich/experiments/Experiments_005400/005404/Analysis-Unpertubed Mitotic/RoiSet#14-Prometa.zip\",\n",
    "    str(Path.home())\n",
    "    + \"/gerlich/experiments/Experiments_005400/005404/Analysis-Unpertubed Mitotic/RoiSet#17-Prometa.zip\",\n",
    "    str(Path.home())\n",
    "    + \"/gerlich/experiments/Experiments_005400/005404/Analysis-Unpertubed Mitotic/RoiSet#8-Prometa.zip\",\n",
    "    str(Path.home())\n",
    "    + \"/gerlich/experiments/Experiments_005400/005404/Analysis-Unpertubed Mitotic/RoiSet#9-Prometa.zip\",\n",
    "]\n",
    "image_names = [\n",
    "    str(Path.home())\n",
    "    + \"/gerlich/experiments/Experiments_005400/005404/Analysis-Unpertubed Mitotic/Cell 15-prometa.tif\",\n",
    "    str(Path.home())\n",
    "    + \"/gerlich/experiments/Experiments_005400/005404/Analysis-Unpertubed Mitotic/Cell 18-prometa.tif\",\n",
    "    str(Path.home())\n",
    "    + \"/gerlich/experiments/Experiments_005400/005404/Analysis-Unpertubed Mitotic/Cell11-prometa.tif\",\n",
    "    str(Path.home())\n",
    "    + \"/gerlich/experiments/Experiments_005400/005404/Analysis-Unpertubed Mitotic/Cell14-prometa.tif\",\n",
    "    str(Path.home())\n",
    "    + \"/gerlich/experiments/Experiments_005400/005404/Analysis-Unpertubed Mitotic/Cell17-prometa.tif\",\n",
    "    str(Path.home())\n",
    "    + \"/gerlich/experiments/Experiments_005400/005404/Analysis-Unpertubed Mitotic/Cell8-prometa.tif\",\n",
    "    str(Path.home())\n",
    "    + \"/gerlich/experiments/Experiments_005400/005404/Analysis-Unpertubed Mitotic/Cell9-prometa.tif\",\n",
    "]\n",
    "channels = [\"CENP-A\", \"H2B-mCherry\"]"
   ]
  },
  {
   "cell_type": "markdown",
   "metadata": {},
   "source": []
  }
 ],
 "metadata": {
  "interpreter": {
   "hash": "f25e9c22d225ceef0a528e818ef11cbe505d87ea9f9fae4c8408c4141737a1a9"
  },
  "kernelspec": {
   "display_name": "Python 3.8.0 ('base')",
   "language": "python",
   "name": "python3"
  },
  "language_info": {
   "codemirror_mode": {
    "name": "ipython",
    "version": 3
   },
   "file_extension": ".py",
   "mimetype": "text/x-python",
   "name": "python",
   "nbconvert_exporter": "python",
   "pygments_lexer": "ipython3",
   "version": "3.8.0"
  },
  "orig_nbformat": 4
 },
 "nbformat": 4,
 "nbformat_minor": 2
}
